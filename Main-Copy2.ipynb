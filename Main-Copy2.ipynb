{
 "cells": [
  {
   "cell_type": "code",
   "execution_count": 1,
   "metadata": {},
   "outputs": [],
   "source": [
    "import numpy as np\n",
    "import pandas as pd\n",
    "\n",
    "import warnings\n",
    "warnings.filterwarnings(\"ignore\")\n",
    "\n",
    "from ipynb.fs.full.Finance_data_preparation import data_generator\n",
    "from ipynb.fs.full.DataPreparation import DataPreparation , y_eval\n",
    "\n",
    "from sklearn.model_selection import train_test_split"
   ]
  },
  {
   "cell_type": "code",
   "execution_count": 2,
   "metadata": {},
   "outputs": [
    {
     "name": "stdout",
     "output_type": "stream",
     "text": [
      "Do you have prepared data? y/n:y\n"
     ]
    }
   ],
   "source": [
    "namad = [ \n",
    "          'APPE.xls' , 'OMID.xls' , 'BFJR.xls' , 'PARS.xls' , 'YASA.xls' ,\n",
    "          'DRKH.xls' , 'BARZ.xls' , 'SADR.xls' , 'DTIP.xls' , 'BSTE.xls' ,\n",
    "          'SGOS.xls' , 'SAHD.xls' , 'OFRS.xls' , 'PJMZ.xls' , 'HTOK.xls' ,\n",
    "          'KSHJ.xls' , 'ATIR.xls' , 'PKOD.xls' , 'SIPA.xls' , 'KFAN.xls' ,\n",
    "          'TMKH.xls' , 'IKCO.xls' , 'TMVD.xls' , 'DRZK.xls' , 'DDPK.xls' ,\n",
    "          'SKAZ.xls' , 'DLGM.xls' , 'SEPP.xls' , 'SHSI.xls' , 'PFAN.xls' ,\n",
    "          'SFKZ.xls' , 'SKER.xls' , 'SMRG.xls' , 'PNTB.xls' , 'PNBA.xls' ,\n",
    "          'CRBN.xls' , 'GORJ.xls' , 'MINO.xls' , 'SHFS.xls' , 'DFRB.xls' ,\n",
    "          'AZAB.xls' , 'MARK.xls' , 'PKLJ.xls' , 'ALIR.xls' , 'SORB.xls' ,\n",
    "          'ALMR.xls' , 'NALM.xls' , 'FOLD.xls' , 'SHKR.xls' , 'GNBO.xls' ,\n",
    "          'BAFG.xls' , 'CHML.xls' , 'PSIR.xls' , 'SISH.xls' , 'ARDK.xls' ,\n",
    "          'PSER.xls' , 'MNGZ.xls' , 'IAGM.xls' , 'BMEL.xls' , 'MRIN.xls' ,\n",
    "          'SBAH.xls' , 'BALI.xls' , 'BPAS.xls' , 'LZIN.xls' , 'MRGN.xls'  \n",
    "]\n",
    "\n",
    "ASK = input(\"Do you have prepared data? y/n:\")\n",
    "if ASK == 'n' :\n",
    "    DataPreparation(namad,t=1)"
   ]
  },
  {
   "cell_type": "code",
   "execution_count": 3,
   "metadata": {},
   "outputs": [
    {
     "name": "stdout",
     "output_type": "stream",
     "text": [
      "Do you have prepared data? y/n:n\n"
     ]
    }
   ],
   "source": [
    "namad = [ \n",
    "          'MOTJ.xls' , 'IKHR.xls' , 'BDYZ.xls' , 'FKHZ.xls' , 'MSMI.xls' \n",
    "]\n",
    "\n",
    "ASK = input(\"Do you have prepared data? y/n:\")\n",
    "if ASK == 'n' :\n",
    "    DataPreparation(namad,t=1)"
   ]
  },
  {
   "cell_type": "code",
   "execution_count": 5,
   "metadata": {},
   "outputs": [],
   "source": [
    "#load data\n",
    "X = pd.read_csv('5test_features.csv')\n",
    "data = pd.read_csv('5test_all.csv')\n",
    "\n",
    "y_eval(data)\n",
    "y = pd.read_csv('5test_y_5.csv')\n",
    "nn = ['Y']\n",
    "\n",
    "y.columns = nn"
   ]
  },
  {
   "cell_type": "code",
   "execution_count": 6,
   "metadata": {},
   "outputs": [
    {
     "data": {
      "text/html": [
       "<div>\n",
       "<style scoped>\n",
       "    .dataframe tbody tr th:only-of-type {\n",
       "        vertical-align: middle;\n",
       "    }\n",
       "\n",
       "    .dataframe tbody tr th {\n",
       "        vertical-align: top;\n",
       "    }\n",
       "\n",
       "    .dataframe thead th {\n",
       "        text-align: right;\n",
       "    }\n",
       "</style>\n",
       "<table border=\"1\" class=\"dataframe\">\n",
       "  <thead>\n",
       "    <tr style=\"text-align: right;\">\n",
       "      <th></th>\n",
       "      <th>Y</th>\n",
       "    </tr>\n",
       "  </thead>\n",
       "  <tbody>\n",
       "    <tr>\n",
       "      <th>0</th>\n",
       "      <td>0</td>\n",
       "    </tr>\n",
       "    <tr>\n",
       "      <th>1</th>\n",
       "      <td>0</td>\n",
       "    </tr>\n",
       "    <tr>\n",
       "      <th>2</th>\n",
       "      <td>0</td>\n",
       "    </tr>\n",
       "    <tr>\n",
       "      <th>3</th>\n",
       "      <td>0</td>\n",
       "    </tr>\n",
       "    <tr>\n",
       "      <th>4</th>\n",
       "      <td>0</td>\n",
       "    </tr>\n",
       "    <tr>\n",
       "      <th>...</th>\n",
       "      <td>...</td>\n",
       "    </tr>\n",
       "    <tr>\n",
       "      <th>6291</th>\n",
       "      <td>4</td>\n",
       "    </tr>\n",
       "    <tr>\n",
       "      <th>6292</th>\n",
       "      <td>4</td>\n",
       "    </tr>\n",
       "    <tr>\n",
       "      <th>6293</th>\n",
       "      <td>4</td>\n",
       "    </tr>\n",
       "    <tr>\n",
       "      <th>6294</th>\n",
       "      <td>4</td>\n",
       "    </tr>\n",
       "    <tr>\n",
       "      <th>6295</th>\n",
       "      <td>4</td>\n",
       "    </tr>\n",
       "  </tbody>\n",
       "</table>\n",
       "<p>6296 rows × 1 columns</p>\n",
       "</div>"
      ],
      "text/plain": [
       "      Y\n",
       "0     0\n",
       "1     0\n",
       "2     0\n",
       "3     0\n",
       "4     0\n",
       "...  ..\n",
       "6291  4\n",
       "6292  4\n",
       "6293  4\n",
       "6294  4\n",
       "6295  4\n",
       "\n",
       "[6296 rows x 1 columns]"
      ]
     },
     "execution_count": 6,
     "metadata": {},
     "output_type": "execute_result"
    }
   ],
   "source": [
    "y"
   ]
  },
  {
   "cell_type": "code",
   "execution_count": null,
   "metadata": {},
   "outputs": [],
   "source": [
    "b = y.Y.value_counts()\n",
    "g = y[y['Y'] == b.argsort().index[0]].sample(n=b[b.argsort().index[0]]-b[b.argsort().index[2]])\n",
    "y.drop(g.index,inplace=True)\n",
    "X.drop(g.index,inplace=True)"
   ]
  },
  {
   "cell_type": "code",
   "execution_count": null,
   "metadata": {},
   "outputs": [],
   "source": [
    "X_train, X_test, Y_train, Y_test = train_test_split(X, y, test_size=0.3, random_state=42)"
   ]
  },
  {
   "cell_type": "code",
   "execution_count": null,
   "metadata": {},
   "outputs": [],
   "source": [
    "from sklearn import preprocessing\n",
    "import xgboost as xgb"
   ]
  },
  {
   "cell_type": "code",
   "execution_count": null,
   "metadata": {},
   "outputs": [],
   "source": [
    "clf = xgb.XGBClassifier(\n",
    "    n_estimators=1000,\n",
    "    max_depth=11,\n",
    "    learning_rate=0.01,\n",
    "    subsample=0.8,\n",
    "    colsample_bytree=0.5,\n",
    "    missing=-999,\n",
    "    random_state=2020,\n",
    ")"
   ]
  },
  {
   "cell_type": "code",
   "execution_count": null,
   "metadata": {},
   "outputs": [],
   "source": [
    "clf.fit(X_train, Y_train)"
   ]
  },
  {
   "cell_type": "code",
   "execution_count": null,
   "metadata": {},
   "outputs": [],
   "source": [
    "per = clf.predict(X_test)"
   ]
  },
  {
   "cell_type": "code",
   "execution_count": null,
   "metadata": {},
   "outputs": [],
   "source": []
  },
  {
   "cell_type": "code",
   "execution_count": null,
   "metadata": {},
   "outputs": [],
   "source": []
  },
  {
   "cell_type": "code",
   "execution_count": null,
   "metadata": {},
   "outputs": [],
   "source": [
    "b = X.Y.value_counts()\n",
    "g = X[X['Y'] == b.argsort().index[0]].sample(n=b[b.argsort().index[0]]-b[b.argsort().index[2]])"
   ]
  },
  {
   "cell_type": "code",
   "execution_count": null,
   "metadata": {},
   "outputs": [],
   "source": [
    "X.drop(g.index,inplace=True)"
   ]
  },
  {
   "cell_type": "code",
   "execution_count": null,
   "metadata": {},
   "outputs": [],
   "source": [
    "b = X.Y.value_counts()\n",
    "g = X[X['Y'] == b.argsort().index[0]].sample(n=b[b.argsort().index[0]]-b[b.argsort().index[2]])\n",
    "X.drop(g.index,inplace=True)\n",
    "X.Y.value_counts()"
   ]
  },
  {
   "cell_type": "code",
   "execution_count": null,
   "metadata": {},
   "outputs": [],
   "source": []
  },
  {
   "cell_type": "code",
   "execution_count": null,
   "metadata": {},
   "outputs": [],
   "source": []
  },
  {
   "cell_type": "code",
   "execution_count": null,
   "metadata": {},
   "outputs": [],
   "source": []
  },
  {
   "cell_type": "code",
   "execution_count": null,
   "metadata": {},
   "outputs": [],
   "source": []
  },
  {
   "cell_type": "code",
   "execution_count": null,
   "metadata": {},
   "outputs": [],
   "source": []
  },
  {
   "cell_type": "code",
   "execution_count": null,
   "metadata": {},
   "outputs": [],
   "source": []
  },
  {
   "cell_type": "code",
   "execution_count": null,
   "metadata": {},
   "outputs": [],
   "source": []
  },
  {
   "cell_type": "code",
   "execution_count": null,
   "metadata": {},
   "outputs": [],
   "source": []
  },
  {
   "cell_type": "markdown",
   "metadata": {},
   "source": [
    "# Deep Learning"
   ]
  },
  {
   "cell_type": "code",
   "execution_count": null,
   "metadata": {},
   "outputs": [],
   "source": [
    "from keras.models import Sequential\n",
    "from keras.layers import Dense, Dropout\n",
    "from keras.layers.normalization import BatchNormalization\n",
    "from keras import regularizers\n",
    "from keras.optimizers import SGD\n",
    "from keras.utils import to_categorical"
   ]
  },
  {
   "cell_type": "code",
   "execution_count": null,
   "metadata": {},
   "outputs": [],
   "source": [
    "input_shape = np.shape(X_train)[1]\n",
    "model = Sequential()\n",
    "model.add(Dense(input_shape//2,activation='relu',input_dim=input_shape , kernel_regularizer=regularizers.l2(0.01)))\n",
    "model.add(Dropout(0.5))\n",
    "model.add(Dense(input_shape//4, activation='relu', kernel_regularizer=regularizers.l2(0.01)))\n",
    "model.add(BatchNormalization())\n",
    "model.add(Dense(3, activation='softmax', kernel_regularizer=regularizers.l2(0.01)))\n",
    "sgd = SGD(lr=0.001, decay=1e-6, momentum=0.9, nesterov=True) \n",
    "model.compile(loss='categorical_crossentropy', optimizer=sgd, metrics=['accuracy'])"
   ]
  },
  {
   "cell_type": "code",
   "execution_count": null,
   "metadata": {},
   "outputs": [],
   "source": [
    "Y_train = to_categorical(Y_train, num_classes=3)\n",
    "Y_test = to_categorical(Y_test, num_classes=3)"
   ]
  },
  {
   "cell_type": "code",
   "execution_count": null,
   "metadata": {},
   "outputs": [],
   "source": [
    "model.fit(X_train, Y_train, epochs=30, batch_size=128)"
   ]
  },
  {
   "cell_type": "code",
   "execution_count": null,
   "metadata": {},
   "outputs": [],
   "source": []
  },
  {
   "cell_type": "code",
   "execution_count": null,
   "metadata": {},
   "outputs": [],
   "source": []
  },
  {
   "cell_type": "code",
   "execution_count": null,
   "metadata": {},
   "outputs": [],
   "source": []
  },
  {
   "cell_type": "code",
   "execution_count": null,
   "metadata": {},
   "outputs": [],
   "source": []
  },
  {
   "cell_type": "code",
   "execution_count": null,
   "metadata": {},
   "outputs": [],
   "source": [
    "import joblib\n",
    "#save model\n",
    "joblib.dump(clf, 'aaa') \n",
    "\n",
    "#load saved model\n",
    "xgb = joblib.load('aaa')"
   ]
  },
  {
   "cell_type": "code",
   "execution_count": null,
   "metadata": {},
   "outputs": [],
   "source": []
  }
 ],
 "metadata": {
  "kernelspec": {
   "display_name": "Python 3",
   "language": "python",
   "name": "python3"
  },
  "language_info": {
   "codemirror_mode": {
    "name": "ipython",
    "version": 3
   },
   "file_extension": ".py",
   "mimetype": "text/x-python",
   "name": "python",
   "nbconvert_exporter": "python",
   "pygments_lexer": "ipython3",
   "version": "3.7.6"
  },
  "pycharm": {
   "stem_cell": {
    "cell_type": "raw",
    "metadata": {
     "collapsed": false
    },
    "source": []
   }
  }
 },
 "nbformat": 4,
 "nbformat_minor": 4
}
